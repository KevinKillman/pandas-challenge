{
 "cells": [
  {
   "cell_type": "markdown",
   "metadata": {},
   "source": [
    "### Note\n",
    "* Instructions have been included for each segment. You do not have to follow them exactly, but they are included to help you think through the steps."
   ]
  },
  {
   "cell_type": "code",
   "execution_count": 1,
   "metadata": {},
   "outputs": [
    {
     "data": {
      "text/html": [
       "<div>\n",
       "<style scoped>\n",
       "    .dataframe tbody tr th:only-of-type {\n",
       "        vertical-align: middle;\n",
       "    }\n",
       "\n",
       "    .dataframe tbody tr th {\n",
       "        vertical-align: top;\n",
       "    }\n",
       "\n",
       "    .dataframe thead th {\n",
       "        text-align: right;\n",
       "    }\n",
       "</style>\n",
       "<table border=\"1\" class=\"dataframe\">\n",
       "  <thead>\n",
       "    <tr style=\"text-align: right;\">\n",
       "      <th></th>\n",
       "      <th>Purchase ID</th>\n",
       "      <th>SN</th>\n",
       "      <th>Age</th>\n",
       "      <th>Gender</th>\n",
       "      <th>Item ID</th>\n",
       "      <th>Item Name</th>\n",
       "      <th>Price</th>\n",
       "    </tr>\n",
       "  </thead>\n",
       "  <tbody>\n",
       "    <tr>\n",
       "      <th>0</th>\n",
       "      <td>0</td>\n",
       "      <td>Lisim78</td>\n",
       "      <td>20</td>\n",
       "      <td>Male</td>\n",
       "      <td>108</td>\n",
       "      <td>Extraction, Quickblade Of Trembling Hands</td>\n",
       "      <td>3.53</td>\n",
       "    </tr>\n",
       "    <tr>\n",
       "      <th>1</th>\n",
       "      <td>1</td>\n",
       "      <td>Lisovynya38</td>\n",
       "      <td>40</td>\n",
       "      <td>Male</td>\n",
       "      <td>143</td>\n",
       "      <td>Frenzied Scimitar</td>\n",
       "      <td>1.56</td>\n",
       "    </tr>\n",
       "    <tr>\n",
       "      <th>2</th>\n",
       "      <td>2</td>\n",
       "      <td>Ithergue48</td>\n",
       "      <td>24</td>\n",
       "      <td>Male</td>\n",
       "      <td>92</td>\n",
       "      <td>Final Critic</td>\n",
       "      <td>4.88</td>\n",
       "    </tr>\n",
       "    <tr>\n",
       "      <th>3</th>\n",
       "      <td>3</td>\n",
       "      <td>Chamassasya86</td>\n",
       "      <td>24</td>\n",
       "      <td>Male</td>\n",
       "      <td>100</td>\n",
       "      <td>Blindscythe</td>\n",
       "      <td>3.27</td>\n",
       "    </tr>\n",
       "    <tr>\n",
       "      <th>4</th>\n",
       "      <td>4</td>\n",
       "      <td>Iskosia90</td>\n",
       "      <td>23</td>\n",
       "      <td>Male</td>\n",
       "      <td>131</td>\n",
       "      <td>Fury</td>\n",
       "      <td>1.44</td>\n",
       "    </tr>\n",
       "  </tbody>\n",
       "</table>\n",
       "</div>"
      ],
      "text/plain": [
       "   Purchase ID             SN  Age Gender  Item ID  \\\n",
       "0            0        Lisim78   20   Male      108   \n",
       "1            1    Lisovynya38   40   Male      143   \n",
       "2            2     Ithergue48   24   Male       92   \n",
       "3            3  Chamassasya86   24   Male      100   \n",
       "4            4      Iskosia90   23   Male      131   \n",
       "\n",
       "                                   Item Name  Price  \n",
       "0  Extraction, Quickblade Of Trembling Hands   3.53  \n",
       "1                          Frenzied Scimitar   1.56  \n",
       "2                               Final Critic   4.88  \n",
       "3                                Blindscythe   3.27  \n",
       "4                                       Fury   1.44  "
      ]
     },
     "execution_count": 1,
     "metadata": {},
     "output_type": "execute_result"
    }
   ],
   "source": [
    "# Dependencies and Setup\n",
    "import pandas as pd\n",
    "\n",
    "# File to Load (Remember to Change These)\n",
    "file_to_load = \"Resources/purchase_data.csv\"\n",
    "\n",
    "# Read Purchasing File and store into Pandas data frame\n",
    "purchase_data = pd.read_csv(file_to_load)\n",
    "purchase_data.head()"
   ]
  },
  {
   "cell_type": "markdown",
   "metadata": {},
   "source": [
    "## Player Count"
   ]
  },
  {
   "cell_type": "markdown",
   "metadata": {},
   "source": [
    "* Display the total number of players\n"
   ]
  },
  {
   "cell_type": "code",
   "execution_count": 2,
   "metadata": {},
   "outputs": [
    {
     "name": "stdout",
     "output_type": "stream",
     "text": [
      "Total Number of Players: 576\n"
     ]
    }
   ],
   "source": [
    "print('Total Number of Players: ' + str(len(purchase_data['SN'].unique())))\n"
   ]
  },
  {
   "cell_type": "markdown",
   "metadata": {},
   "source": [
    "## Purchasing Analysis (Total)"
   ]
  },
  {
   "cell_type": "markdown",
   "metadata": {},
   "source": [
    "* Run basic calculations to obtain number of unique items, average price, etc.\n",
    "\n",
    "\n",
    "* Create a summary data frame to hold the results\n",
    "\n",
    "\n",
    "* Optional: give the displayed data cleaner formatting\n",
    "\n",
    "\n",
    "* Display the summary data frame\n"
   ]
  },
  {
   "cell_type": "code",
   "execution_count": 123,
   "metadata": {
    "scrolled": true
   },
   "outputs": [
    {
     "data": {
      "text/html": [
       "<div>\n",
       "<style scoped>\n",
       "    .dataframe tbody tr th:only-of-type {\n",
       "        vertical-align: middle;\n",
       "    }\n",
       "\n",
       "    .dataframe tbody tr th {\n",
       "        vertical-align: top;\n",
       "    }\n",
       "\n",
       "    .dataframe thead th {\n",
       "        text-align: right;\n",
       "    }\n",
       "</style>\n",
       "<table border=\"1\" class=\"dataframe\">\n",
       "  <thead>\n",
       "    <tr style=\"text-align: right;\">\n",
       "      <th></th>\n",
       "      <th>Number of Unique Items</th>\n",
       "      <th>Average Purchase Price</th>\n",
       "      <th>Total Number of Purchases</th>\n",
       "      <th>Total Revernue</th>\n",
       "    </tr>\n",
       "  </thead>\n",
       "  <tbody>\n",
       "    <tr>\n",
       "      <th></th>\n",
       "      <td>179</td>\n",
       "      <td>3.050987</td>\n",
       "      <td>780</td>\n",
       "      <td>2379.77</td>\n",
       "    </tr>\n",
       "  </tbody>\n",
       "</table>\n",
       "</div>"
      ],
      "text/plain": [
       "  Number of Unique Items  Average Purchase Price  Total Number of Purchases  \\\n",
       "                     179                3.050987                        780   \n",
       "\n",
       "  Total Revernue  \n",
       "         2379.77  "
      ]
     },
     "execution_count": 123,
     "metadata": {},
     "output_type": "execute_result"
    }
   ],
   "source": [
    "unique_items = len(purchase_data['Item ID'].unique())\n",
    "avg_price = purchase_data['Price'].mean()\n",
    "num_purch = purchase_data['Purchase ID'].count()\n",
    "revenue = purchase_data['Price'].sum()\n",
    "\n",
    "purch_analy_df = pd.DataFrame({'Number of Unique Items': unique_items, \n",
    "                               'Average Purchase Price': avg_price,\n",
    "                              'Total Number of Purchases': num_purch,\n",
    "                              'Total Revernue': revenue}, index = [''])\n",
    "purch_analy_df\n"
   ]
  },
  {
   "cell_type": "markdown",
   "metadata": {},
   "source": [
    "## Gender Demographics"
   ]
  },
  {
   "cell_type": "code",
   "execution_count": 4,
   "metadata": {},
   "outputs": [
    {
     "name": "stdout",
     "output_type": "stream",
     "text": [
      "Male Players: 484 (84.03%)\n",
      "Female Players: 81 (14.06%) \n",
      "Other/Non-Disclosed: 11 (1.91%)\n"
     ]
    }
   ],
   "source": [
    "male_total = len(purchase_data.loc[purchase_data['Gender']=='Male', 'SN'].unique())\n",
    "female_total = len(purchase_data.loc[purchase_data['Gender']=='Female', 'SN'].unique())\n",
    "other_total = len(purchase_data.loc[purchase_data['Gender']=='Other / Non-Disclosed', 'SN'].unique())\n",
    "total = male_total + female_total + other_total\n",
    "\n",
    "print(f'Male Players: {male_total} ({(male_total/total)*100:.4}%)\\nFemale Players: {female_total} ({(female_total/total)*100:.4}%) \\nOther/Non-Disclosed: {other_total} ({(other_total/total)*100:.4}%)')\n",
    "\n"
   ]
  },
  {
   "cell_type": "markdown",
   "metadata": {},
   "source": [
    "\n",
    "## Purchasing Analysis (Gender)"
   ]
  },
  {
   "cell_type": "markdown",
   "metadata": {},
   "source": [
    "* Run basic calculations to obtain purchase count, avg. purchase price, avg. purchase total per person etc. by gender\n",
    "\n",
    "\n",
    "\n",
    "\n",
    "* Create a summary data frame to hold the results\n",
    "\n",
    "\n",
    "* Optional: give the displayed data cleaner formatting\n",
    "\n",
    "\n",
    "* Display the summary data frame"
   ]
  },
  {
   "cell_type": "code",
   "execution_count": 118,
   "metadata": {},
   "outputs": [
    {
     "data": {
      "text/html": [
       "<style  type=\"text/css\" >\n",
       "</style><table id=\"T_57492882_e984_11ea_9f72_40a3cce58b3d\" ><thead>    <tr>        <th class=\"blank level0\" ></th>        <th class=\"col_heading level0 col0\" >Purchase Count</th>        <th class=\"col_heading level0 col1\" >Average Purchase Price</th>        <th class=\"col_heading level0 col2\" >Total Purchase Value</th>        <th class=\"col_heading level0 col3\" >Average Purchase Total per Person</th>    </tr></thead><tbody>\n",
       "                <tr>\n",
       "                        <th id=\"T_57492882_e984_11ea_9f72_40a3cce58b3dlevel0_row0\" class=\"row_heading level0 row0\" >Male</th>\n",
       "                        <td id=\"T_57492882_e984_11ea_9f72_40a3cce58b3drow0_col0\" class=\"data row0 col0\" >652</td>\n",
       "                        <td id=\"T_57492882_e984_11ea_9f72_40a3cce58b3drow0_col1\" class=\"data row0 col1\" >$3.02</td>\n",
       "                        <td id=\"T_57492882_e984_11ea_9f72_40a3cce58b3drow0_col2\" class=\"data row0 col2\" >$1,967.64</td>\n",
       "                        <td id=\"T_57492882_e984_11ea_9f72_40a3cce58b3drow0_col3\" class=\"data row0 col3\" >$4.07</td>\n",
       "            </tr>\n",
       "            <tr>\n",
       "                        <th id=\"T_57492882_e984_11ea_9f72_40a3cce58b3dlevel0_row1\" class=\"row_heading level0 row1\" >Female</th>\n",
       "                        <td id=\"T_57492882_e984_11ea_9f72_40a3cce58b3drow1_col0\" class=\"data row1 col0\" >113</td>\n",
       "                        <td id=\"T_57492882_e984_11ea_9f72_40a3cce58b3drow1_col1\" class=\"data row1 col1\" >$3.20</td>\n",
       "                        <td id=\"T_57492882_e984_11ea_9f72_40a3cce58b3drow1_col2\" class=\"data row1 col2\" >$361.94</td>\n",
       "                        <td id=\"T_57492882_e984_11ea_9f72_40a3cce58b3drow1_col3\" class=\"data row1 col3\" >$4.47</td>\n",
       "            </tr>\n",
       "            <tr>\n",
       "                        <th id=\"T_57492882_e984_11ea_9f72_40a3cce58b3dlevel0_row2\" class=\"row_heading level0 row2\" >Other / Non-Disclosed</th>\n",
       "                        <td id=\"T_57492882_e984_11ea_9f72_40a3cce58b3drow2_col0\" class=\"data row2 col0\" >15</td>\n",
       "                        <td id=\"T_57492882_e984_11ea_9f72_40a3cce58b3drow2_col1\" class=\"data row2 col1\" >$3.35</td>\n",
       "                        <td id=\"T_57492882_e984_11ea_9f72_40a3cce58b3drow2_col2\" class=\"data row2 col2\" >$50.19</td>\n",
       "                        <td id=\"T_57492882_e984_11ea_9f72_40a3cce58b3drow2_col3\" class=\"data row2 col3\" >$4.56</td>\n",
       "            </tr>\n",
       "    </tbody></table>"
      ],
      "text/plain": [
       "<pandas.io.formats.style.Styler at 0x218d8a01908>"
      ]
     },
     "execution_count": 118,
     "metadata": {},
     "output_type": "execute_result"
    }
   ],
   "source": [
    "grouped_gender = purchase_data.groupby('Gender')\n",
    "Gender=['Male','Female', 'Other / Non-Disclosed']\n",
    "total_df = pd.Series([male_total,female_total,other_total], index = Gender)\n",
    "\n",
    "\n",
    "\n",
    "purch_count= grouped_gender['SN'].count()\n",
    "avg_price = grouped_gender['Price'].mean()\n",
    "tot_val = grouped_gender['Price'].sum()\n",
    "avg_purch_total = tot_val/total_df\n",
    "\n",
    "count_gender_df = count_gender_df.dropna(how='any')\n",
    "\n",
    "summary_df = pd.DataFrame({'Purchase Count': purch_count,\n",
    "                           'Average Purchase Price':avg_price,\n",
    "                          'Total Purchase Value':tot_val,\n",
    "                          'Average Purchase Total per Person':avg_purch_total}, index = Gender)\n",
    "summary_df = summary_df.style.format({'Average Purchase Price':'${0:,.2f}',\n",
    "                        'Total Purchase Value': '${0:,.2f}',\n",
    "                        'Average Purchase Total per Person' : '${0:,.2f}'})\n",
    "summary_df\n",
    "\n",
    "        \n",
    "\n"
   ]
  },
  {
   "cell_type": "markdown",
   "metadata": {},
   "source": [
    "## Age Demographics"
   ]
  },
  {
   "cell_type": "markdown",
   "metadata": {},
   "source": [
    "* Establish bins for ages\n",
    "\n",
    "\n",
    "* Categorize the existing players using the age bins. Hint: use pd.cut()\n",
    "\n",
    "\n",
    "* Calculate the numbers and percentages by age group\n",
    "\n",
    "\n",
    "* Create a summary data frame to hold the results\n",
    "\n",
    "\n",
    "* Optional: round the percentage column to two decimal points\n",
    "\n",
    "\n",
    "* Display Age Demographics Table\n"
   ]
  },
  {
   "cell_type": "code",
   "execution_count": 125,
   "metadata": {},
   "outputs": [
    {
     "data": {
      "text/html": [
       "<style  type=\"text/css\" >\n",
       "</style><table id=\"T_9d87ea1e_e984_11ea_9738_40a3cce58b3d\" ><thead>    <tr>        <th class=\"blank level0\" ></th>        <th class=\"col_heading level0 col0\" >Total Players</th>        <th class=\"col_heading level0 col1\" >Percentage</th>    </tr></thead><tbody>\n",
       "                <tr>\n",
       "                        <th id=\"T_9d87ea1e_e984_11ea_9738_40a3cce58b3dlevel0_row0\" class=\"row_heading level0 row0\" >0-10</th>\n",
       "                        <td id=\"T_9d87ea1e_e984_11ea_9738_40a3cce58b3drow0_col0\" class=\"data row0 col0\" >23</td>\n",
       "                        <td id=\"T_9d87ea1e_e984_11ea_9738_40a3cce58b3drow0_col1\" class=\"data row0 col1\" >3.99%</td>\n",
       "            </tr>\n",
       "            <tr>\n",
       "                        <th id=\"T_9d87ea1e_e984_11ea_9738_40a3cce58b3dlevel0_row1\" class=\"row_heading level0 row1\" >10-14</th>\n",
       "                        <td id=\"T_9d87ea1e_e984_11ea_9738_40a3cce58b3drow1_col0\" class=\"data row1 col0\" >28</td>\n",
       "                        <td id=\"T_9d87ea1e_e984_11ea_9738_40a3cce58b3drow1_col1\" class=\"data row1 col1\" >4.86%</td>\n",
       "            </tr>\n",
       "            <tr>\n",
       "                        <th id=\"T_9d87ea1e_e984_11ea_9738_40a3cce58b3dlevel0_row2\" class=\"row_heading level0 row2\" >15-19</th>\n",
       "                        <td id=\"T_9d87ea1e_e984_11ea_9738_40a3cce58b3drow2_col0\" class=\"data row2 col0\" >136</td>\n",
       "                        <td id=\"T_9d87ea1e_e984_11ea_9738_40a3cce58b3drow2_col1\" class=\"data row2 col1\" >23.61%</td>\n",
       "            </tr>\n",
       "            <tr>\n",
       "                        <th id=\"T_9d87ea1e_e984_11ea_9738_40a3cce58b3dlevel0_row3\" class=\"row_heading level0 row3\" >20-24</th>\n",
       "                        <td id=\"T_9d87ea1e_e984_11ea_9738_40a3cce58b3drow3_col0\" class=\"data row3 col0\" >365</td>\n",
       "                        <td id=\"T_9d87ea1e_e984_11ea_9738_40a3cce58b3drow3_col1\" class=\"data row3 col1\" >63.37%</td>\n",
       "            </tr>\n",
       "            <tr>\n",
       "                        <th id=\"T_9d87ea1e_e984_11ea_9738_40a3cce58b3dlevel0_row4\" class=\"row_heading level0 row4\" >25-29</th>\n",
       "                        <td id=\"T_9d87ea1e_e984_11ea_9738_40a3cce58b3drow4_col0\" class=\"data row4 col0\" >101</td>\n",
       "                        <td id=\"T_9d87ea1e_e984_11ea_9738_40a3cce58b3drow4_col1\" class=\"data row4 col1\" >17.53%</td>\n",
       "            </tr>\n",
       "            <tr>\n",
       "                        <th id=\"T_9d87ea1e_e984_11ea_9738_40a3cce58b3dlevel0_row5\" class=\"row_heading level0 row5\" >30-34</th>\n",
       "                        <td id=\"T_9d87ea1e_e984_11ea_9738_40a3cce58b3drow5_col0\" class=\"data row5 col0\" >73</td>\n",
       "                        <td id=\"T_9d87ea1e_e984_11ea_9738_40a3cce58b3drow5_col1\" class=\"data row5 col1\" >12.67%</td>\n",
       "            </tr>\n",
       "            <tr>\n",
       "                        <th id=\"T_9d87ea1e_e984_11ea_9738_40a3cce58b3dlevel0_row6\" class=\"row_heading level0 row6\" >35-39</th>\n",
       "                        <td id=\"T_9d87ea1e_e984_11ea_9738_40a3cce58b3drow6_col0\" class=\"data row6 col0\" >41</td>\n",
       "                        <td id=\"T_9d87ea1e_e984_11ea_9738_40a3cce58b3drow6_col1\" class=\"data row6 col1\" >7.12%</td>\n",
       "            </tr>\n",
       "            <tr>\n",
       "                        <th id=\"T_9d87ea1e_e984_11ea_9738_40a3cce58b3dlevel0_row7\" class=\"row_heading level0 row7\" >40+</th>\n",
       "                        <td id=\"T_9d87ea1e_e984_11ea_9738_40a3cce58b3drow7_col0\" class=\"data row7 col0\" >13</td>\n",
       "                        <td id=\"T_9d87ea1e_e984_11ea_9738_40a3cce58b3drow7_col1\" class=\"data row7 col1\" >2.26%</td>\n",
       "            </tr>\n",
       "    </tbody></table>"
      ],
      "text/plain": [
       "<pandas.io.formats.style.Styler at 0x218d6dd6848>"
      ]
     },
     "execution_count": 125,
     "metadata": {},
     "output_type": "execute_result"
    }
   ],
   "source": [
    "age_bins = [0,9,14,19,24,29,34,39,purchase_data['Age'].max()]\n",
    "age_labels = ['0-10','10-14', '15-19','20-24', '25-29', '30-34', '35-39', '40+']\n",
    "purchase_data['Age Bin'] = pd.cut(purchase_data['Age'], bins = age_bins, labels = age_labels)\n",
    "age_group_df = purchase_data.groupby('Age Bin')\n",
    "\n",
    "total_players = age_group_df['SN'].count()\n",
    "percent_players = age_group_df['Purchase ID'].count()/total_unique_players * 100\n",
    "\n",
    "age_s_df = pd.DataFrame({'Total Players': total_players,\n",
    "                        'Percentage': percent_players}, index = age_labels)\n",
    "age_s_df = age_s_df.style.format({'Percentage':'{0:,.2f}%'})\n",
    "age_s_df\n"
   ]
  },
  {
   "cell_type": "markdown",
   "metadata": {},
   "source": [
    "## Purchasing Analysis (Age)"
   ]
  },
  {
   "cell_type": "markdown",
   "metadata": {},
   "source": [
    "* Bin the purchase_data data frame by age\n",
    "\n",
    "\n",
    "* Run basic calculations to obtain purchase count, avg. purchase price, avg. purchase total per person etc. in the table below\n",
    "\n",
    "\n",
    "* Create a summary data frame to hold the results\n",
    "\n",
    "\n",
    "* Optional: give the displayed data cleaner formatting\n",
    "\n",
    "\n",
    "* Display the summary data frame"
   ]
  },
  {
   "cell_type": "code",
   "execution_count": 124,
   "metadata": {},
   "outputs": [
    {
     "data": {
      "text/html": [
       "<style  type=\"text/css\" >\n",
       "</style><table id=\"T_9ad3d714_e984_11ea_8469_40a3cce58b3d\" ><thead>    <tr>        <th class=\"blank level0\" ></th>        <th class=\"col_heading level0 col0\" >Purchase Count</th>        <th class=\"col_heading level0 col1\" >Average Purchase Price</th>        <th class=\"col_heading level0 col2\" >Total Purchase Value</th>        <th class=\"col_heading level0 col3\" >Average Purchase Total per Person</th>    </tr></thead><tbody>\n",
       "                <tr>\n",
       "                        <th id=\"T_9ad3d714_e984_11ea_8469_40a3cce58b3dlevel0_row0\" class=\"row_heading level0 row0\" >0-10</th>\n",
       "                        <td id=\"T_9ad3d714_e984_11ea_8469_40a3cce58b3drow0_col0\" class=\"data row0 col0\" >23</td>\n",
       "                        <td id=\"T_9ad3d714_e984_11ea_8469_40a3cce58b3drow0_col1\" class=\"data row0 col1\" >$3.35</td>\n",
       "                        <td id=\"T_9ad3d714_e984_11ea_8469_40a3cce58b3drow0_col2\" class=\"data row0 col2\" >$77.13</td>\n",
       "                        <td id=\"T_9ad3d714_e984_11ea_8469_40a3cce58b3drow0_col3\" class=\"data row0 col3\" >$3.35</td>\n",
       "            </tr>\n",
       "            <tr>\n",
       "                        <th id=\"T_9ad3d714_e984_11ea_8469_40a3cce58b3dlevel0_row1\" class=\"row_heading level0 row1\" >10-14</th>\n",
       "                        <td id=\"T_9ad3d714_e984_11ea_8469_40a3cce58b3drow1_col0\" class=\"data row1 col0\" >28</td>\n",
       "                        <td id=\"T_9ad3d714_e984_11ea_8469_40a3cce58b3drow1_col1\" class=\"data row1 col1\" >$2.96</td>\n",
       "                        <td id=\"T_9ad3d714_e984_11ea_8469_40a3cce58b3drow1_col2\" class=\"data row1 col2\" >$82.78</td>\n",
       "                        <td id=\"T_9ad3d714_e984_11ea_8469_40a3cce58b3drow1_col3\" class=\"data row1 col3\" >$2.96</td>\n",
       "            </tr>\n",
       "            <tr>\n",
       "                        <th id=\"T_9ad3d714_e984_11ea_8469_40a3cce58b3dlevel0_row2\" class=\"row_heading level0 row2\" >15-19</th>\n",
       "                        <td id=\"T_9ad3d714_e984_11ea_8469_40a3cce58b3drow2_col0\" class=\"data row2 col0\" >136</td>\n",
       "                        <td id=\"T_9ad3d714_e984_11ea_8469_40a3cce58b3drow2_col1\" class=\"data row2 col1\" >$3.04</td>\n",
       "                        <td id=\"T_9ad3d714_e984_11ea_8469_40a3cce58b3drow2_col2\" class=\"data row2 col2\" >$412.89</td>\n",
       "                        <td id=\"T_9ad3d714_e984_11ea_8469_40a3cce58b3drow2_col3\" class=\"data row2 col3\" >$3.04</td>\n",
       "            </tr>\n",
       "            <tr>\n",
       "                        <th id=\"T_9ad3d714_e984_11ea_8469_40a3cce58b3dlevel0_row3\" class=\"row_heading level0 row3\" >20-24</th>\n",
       "                        <td id=\"T_9ad3d714_e984_11ea_8469_40a3cce58b3drow3_col0\" class=\"data row3 col0\" >365</td>\n",
       "                        <td id=\"T_9ad3d714_e984_11ea_8469_40a3cce58b3drow3_col1\" class=\"data row3 col1\" >$3.05</td>\n",
       "                        <td id=\"T_9ad3d714_e984_11ea_8469_40a3cce58b3drow3_col2\" class=\"data row3 col2\" >$1,114.06</td>\n",
       "                        <td id=\"T_9ad3d714_e984_11ea_8469_40a3cce58b3drow3_col3\" class=\"data row3 col3\" >$3.05</td>\n",
       "            </tr>\n",
       "            <tr>\n",
       "                        <th id=\"T_9ad3d714_e984_11ea_8469_40a3cce58b3dlevel0_row4\" class=\"row_heading level0 row4\" >25-29</th>\n",
       "                        <td id=\"T_9ad3d714_e984_11ea_8469_40a3cce58b3drow4_col0\" class=\"data row4 col0\" >101</td>\n",
       "                        <td id=\"T_9ad3d714_e984_11ea_8469_40a3cce58b3drow4_col1\" class=\"data row4 col1\" >$2.90</td>\n",
       "                        <td id=\"T_9ad3d714_e984_11ea_8469_40a3cce58b3drow4_col2\" class=\"data row4 col2\" >$293.00</td>\n",
       "                        <td id=\"T_9ad3d714_e984_11ea_8469_40a3cce58b3drow4_col3\" class=\"data row4 col3\" >$2.90</td>\n",
       "            </tr>\n",
       "            <tr>\n",
       "                        <th id=\"T_9ad3d714_e984_11ea_8469_40a3cce58b3dlevel0_row5\" class=\"row_heading level0 row5\" >30-34</th>\n",
       "                        <td id=\"T_9ad3d714_e984_11ea_8469_40a3cce58b3drow5_col0\" class=\"data row5 col0\" >73</td>\n",
       "                        <td id=\"T_9ad3d714_e984_11ea_8469_40a3cce58b3drow5_col1\" class=\"data row5 col1\" >$2.93</td>\n",
       "                        <td id=\"T_9ad3d714_e984_11ea_8469_40a3cce58b3drow5_col2\" class=\"data row5 col2\" >$214.00</td>\n",
       "                        <td id=\"T_9ad3d714_e984_11ea_8469_40a3cce58b3drow5_col3\" class=\"data row5 col3\" >$2.93</td>\n",
       "            </tr>\n",
       "            <tr>\n",
       "                        <th id=\"T_9ad3d714_e984_11ea_8469_40a3cce58b3dlevel0_row6\" class=\"row_heading level0 row6\" >35-39</th>\n",
       "                        <td id=\"T_9ad3d714_e984_11ea_8469_40a3cce58b3drow6_col0\" class=\"data row6 col0\" >41</td>\n",
       "                        <td id=\"T_9ad3d714_e984_11ea_8469_40a3cce58b3drow6_col1\" class=\"data row6 col1\" >$3.60</td>\n",
       "                        <td id=\"T_9ad3d714_e984_11ea_8469_40a3cce58b3drow6_col2\" class=\"data row6 col2\" >$147.67</td>\n",
       "                        <td id=\"T_9ad3d714_e984_11ea_8469_40a3cce58b3drow6_col3\" class=\"data row6 col3\" >$3.60</td>\n",
       "            </tr>\n",
       "            <tr>\n",
       "                        <th id=\"T_9ad3d714_e984_11ea_8469_40a3cce58b3dlevel0_row7\" class=\"row_heading level0 row7\" >40+</th>\n",
       "                        <td id=\"T_9ad3d714_e984_11ea_8469_40a3cce58b3drow7_col0\" class=\"data row7 col0\" >13</td>\n",
       "                        <td id=\"T_9ad3d714_e984_11ea_8469_40a3cce58b3drow7_col1\" class=\"data row7 col1\" >$2.94</td>\n",
       "                        <td id=\"T_9ad3d714_e984_11ea_8469_40a3cce58b3drow7_col2\" class=\"data row7 col2\" >$38.24</td>\n",
       "                        <td id=\"T_9ad3d714_e984_11ea_8469_40a3cce58b3drow7_col3\" class=\"data row7 col3\" >$2.94</td>\n",
       "            </tr>\n",
       "    </tbody></table>"
      ],
      "text/plain": [
       "<pandas.io.formats.style.Styler at 0x218d847dbc8>"
      ]
     },
     "execution_count": 124,
     "metadata": {},
     "output_type": "execute_result"
    }
   ],
   "source": [
    "age_bins = [0,9,14,19,24,29,34,39,purchase_data['Age'].max()]\n",
    "age_labels = ['0-10','10-14', '15-19','20-24', '25-29', '30-34', '35-39', '40+']\n",
    "purchase_data['Age Bin'] = pd.cut(purchase_data['Age'], bins = age_bins, labels = age_labels)\n",
    "age_group_df = purchase_data.groupby('Age Bin')\n",
    "Purch_count = age_group_df['Purchase ID'].count()\n",
    "Purch_avg_price = age_group_df['Price'].mean()\n",
    "Purch_total_price = age_group_df['Price'].sum()\n",
    "Purch_tot_person = Purch_total_price/Purch_count\n",
    "\n",
    "age_summary_df = pd.DataFrame({'Purchase Count': Purch_count,\n",
    "                           'Average Purchase Price':Purch_avg_price,\n",
    "                          'Total Purchase Value':Purch_total_price,\n",
    "                          'Average Purchase Total per Person':Purch_tot_person}, index = age_labels)\n",
    "age_summary_df = age_summary_df.style.format({'Average Purchase Price':'${0:,.2f}',\n",
    "                        'Total Purchase Value': '${0:,.2f}',\n",
    "                        'Average Purchase Total per Person' : '${0:,.2f}'})\n",
    "age_summary_df\n"
   ]
  },
  {
   "cell_type": "markdown",
   "metadata": {},
   "source": [
    "## Top Spenders"
   ]
  },
  {
   "cell_type": "markdown",
   "metadata": {},
   "source": [
    "* Run basic calculations to obtain the results in the table below\n",
    "\n",
    "\n",
    "* Create a summary data frame to hold the results\n",
    "\n",
    "\n",
    "* Sort the total purchase value column in descending order\n",
    "\n",
    "\n",
    "* Optional: give the displayed data cleaner formatting\n",
    "\n",
    "\n",
    "* Display a preview of the summary data frame\n",
    "\n"
   ]
  },
  {
   "cell_type": "code",
   "execution_count": 8,
   "metadata": {},
   "outputs": [
    {
     "data": {
      "text/html": [
       "<div>\n",
       "<style scoped>\n",
       "    .dataframe tbody tr th:only-of-type {\n",
       "        vertical-align: middle;\n",
       "    }\n",
       "\n",
       "    .dataframe tbody tr th {\n",
       "        vertical-align: top;\n",
       "    }\n",
       "\n",
       "    .dataframe thead th {\n",
       "        text-align: right;\n",
       "    }\n",
       "</style>\n",
       "<table border=\"1\" class=\"dataframe\">\n",
       "  <thead>\n",
       "    <tr style=\"text-align: right;\">\n",
       "      <th></th>\n",
       "      <th>Purchase Count</th>\n",
       "      <th>Average Purchase Price</th>\n",
       "      <th>Total Purchase Value</th>\n",
       "    </tr>\n",
       "    <tr>\n",
       "      <th>SN</th>\n",
       "      <th></th>\n",
       "      <th></th>\n",
       "      <th></th>\n",
       "    </tr>\n",
       "  </thead>\n",
       "  <tbody>\n",
       "    <tr>\n",
       "      <th>Lisosia93</th>\n",
       "      <td>5</td>\n",
       "      <td>$3.79</td>\n",
       "      <td>$18.96</td>\n",
       "    </tr>\n",
       "    <tr>\n",
       "      <th>Idastidru52</th>\n",
       "      <td>4</td>\n",
       "      <td>$3.86</td>\n",
       "      <td>$15.45</td>\n",
       "    </tr>\n",
       "    <tr>\n",
       "      <th>Chamjask73</th>\n",
       "      <td>3</td>\n",
       "      <td>$4.61</td>\n",
       "      <td>$13.83</td>\n",
       "    </tr>\n",
       "    <tr>\n",
       "      <th>Iral74</th>\n",
       "      <td>4</td>\n",
       "      <td>$3.40</td>\n",
       "      <td>$13.62</td>\n",
       "    </tr>\n",
       "    <tr>\n",
       "      <th>Iskadarya95</th>\n",
       "      <td>3</td>\n",
       "      <td>$4.37</td>\n",
       "      <td>$13.10</td>\n",
       "    </tr>\n",
       "  </tbody>\n",
       "</table>\n",
       "</div>"
      ],
      "text/plain": [
       "             Purchase Count Average Purchase Price Total Purchase Value\n",
       "SN                                                                     \n",
       "Lisosia93                 5                  $3.79               $18.96\n",
       "Idastidru52               4                  $3.86               $15.45\n",
       "Chamjask73                3                  $4.61               $13.83\n",
       "Iral74                    4                  $3.40               $13.62\n",
       "Iskadarya95               3                  $4.37               $13.10"
      ]
     },
     "execution_count": 8,
     "metadata": {},
     "output_type": "execute_result"
    }
   ],
   "source": []
  },
  {
   "cell_type": "markdown",
   "metadata": {},
   "source": [
    "## Most Popular Items"
   ]
  },
  {
   "cell_type": "markdown",
   "metadata": {},
   "source": [
    "* Retrieve the Item ID, Item Name, and Item Price columns\n",
    "\n",
    "\n",
    "* Group by Item ID and Item Name. Perform calculations to obtain purchase count, item price, and total purchase value\n",
    "\n",
    "\n",
    "* Create a summary data frame to hold the results\n",
    "\n",
    "\n",
    "* Sort the purchase count column in descending order\n",
    "\n",
    "\n",
    "* Optional: give the displayed data cleaner formatting\n",
    "\n",
    "\n",
    "* Display a preview of the summary data frame\n",
    "\n"
   ]
  },
  {
   "cell_type": "code",
   "execution_count": 9,
   "metadata": {},
   "outputs": [
    {
     "data": {
      "text/html": [
       "<div>\n",
       "<style scoped>\n",
       "    .dataframe tbody tr th:only-of-type {\n",
       "        vertical-align: middle;\n",
       "    }\n",
       "\n",
       "    .dataframe tbody tr th {\n",
       "        vertical-align: top;\n",
       "    }\n",
       "\n",
       "    .dataframe thead th {\n",
       "        text-align: right;\n",
       "    }\n",
       "</style>\n",
       "<table border=\"1\" class=\"dataframe\">\n",
       "  <thead>\n",
       "    <tr style=\"text-align: right;\">\n",
       "      <th></th>\n",
       "      <th></th>\n",
       "      <th>Purchase Count</th>\n",
       "      <th>Item Price</th>\n",
       "      <th>Total Purchase Value</th>\n",
       "    </tr>\n",
       "    <tr>\n",
       "      <th>Item ID</th>\n",
       "      <th>Item Name</th>\n",
       "      <th></th>\n",
       "      <th></th>\n",
       "      <th></th>\n",
       "    </tr>\n",
       "  </thead>\n",
       "  <tbody>\n",
       "    <tr>\n",
       "      <th>92</th>\n",
       "      <th>Final Critic</th>\n",
       "      <td>13</td>\n",
       "      <td>$4.61</td>\n",
       "      <td>$59.99</td>\n",
       "    </tr>\n",
       "    <tr>\n",
       "      <th>178</th>\n",
       "      <th>Oathbreaker, Last Hope of the Breaking Storm</th>\n",
       "      <td>12</td>\n",
       "      <td>$4.23</td>\n",
       "      <td>$50.76</td>\n",
       "    </tr>\n",
       "    <tr>\n",
       "      <th>145</th>\n",
       "      <th>Fiery Glass Crusader</th>\n",
       "      <td>9</td>\n",
       "      <td>$4.58</td>\n",
       "      <td>$41.22</td>\n",
       "    </tr>\n",
       "    <tr>\n",
       "      <th>132</th>\n",
       "      <th>Persuasion</th>\n",
       "      <td>9</td>\n",
       "      <td>$3.22</td>\n",
       "      <td>$28.99</td>\n",
       "    </tr>\n",
       "    <tr>\n",
       "      <th>108</th>\n",
       "      <th>Extraction, Quickblade Of Trembling Hands</th>\n",
       "      <td>9</td>\n",
       "      <td>$3.53</td>\n",
       "      <td>$31.77</td>\n",
       "    </tr>\n",
       "  </tbody>\n",
       "</table>\n",
       "</div>"
      ],
      "text/plain": [
       "                                                     Purchase Count  \\\n",
       "Item ID Item Name                                                     \n",
       "92      Final Critic                                             13   \n",
       "178     Oathbreaker, Last Hope of the Breaking Storm             12   \n",
       "145     Fiery Glass Crusader                                      9   \n",
       "132     Persuasion                                                9   \n",
       "108     Extraction, Quickblade Of Trembling Hands                 9   \n",
       "\n",
       "                                                     Item Price  \\\n",
       "Item ID Item Name                                                 \n",
       "92      Final Critic                                      $4.61   \n",
       "178     Oathbreaker, Last Hope of the Breaking Storm      $4.23   \n",
       "145     Fiery Glass Crusader                              $4.58   \n",
       "132     Persuasion                                        $3.22   \n",
       "108     Extraction, Quickblade Of Trembling Hands         $3.53   \n",
       "\n",
       "                                                     Total Purchase Value  \n",
       "Item ID Item Name                                                          \n",
       "92      Final Critic                                               $59.99  \n",
       "178     Oathbreaker, Last Hope of the Breaking Storm               $50.76  \n",
       "145     Fiery Glass Crusader                                       $41.22  \n",
       "132     Persuasion                                                 $28.99  \n",
       "108     Extraction, Quickblade Of Trembling Hands                  $31.77  "
      ]
     },
     "execution_count": 9,
     "metadata": {},
     "output_type": "execute_result"
    }
   ],
   "source": []
  },
  {
   "cell_type": "markdown",
   "metadata": {},
   "source": [
    "## Most Profitable Items"
   ]
  },
  {
   "cell_type": "markdown",
   "metadata": {},
   "source": [
    "* Sort the above table by total purchase value in descending order\n",
    "\n",
    "\n",
    "* Optional: give the displayed data cleaner formatting\n",
    "\n",
    "\n",
    "* Display a preview of the data frame\n",
    "\n"
   ]
  },
  {
   "cell_type": "code",
   "execution_count": 10,
   "metadata": {
    "scrolled": true
   },
   "outputs": [
    {
     "data": {
      "text/html": [
       "<div>\n",
       "<style scoped>\n",
       "    .dataframe tbody tr th:only-of-type {\n",
       "        vertical-align: middle;\n",
       "    }\n",
       "\n",
       "    .dataframe tbody tr th {\n",
       "        vertical-align: top;\n",
       "    }\n",
       "\n",
       "    .dataframe thead th {\n",
       "        text-align: right;\n",
       "    }\n",
       "</style>\n",
       "<table border=\"1\" class=\"dataframe\">\n",
       "  <thead>\n",
       "    <tr style=\"text-align: right;\">\n",
       "      <th></th>\n",
       "      <th></th>\n",
       "      <th>Purchase Count</th>\n",
       "      <th>Item Price</th>\n",
       "      <th>Total Purchase Value</th>\n",
       "    </tr>\n",
       "    <tr>\n",
       "      <th>Item ID</th>\n",
       "      <th>Item Name</th>\n",
       "      <th></th>\n",
       "      <th></th>\n",
       "      <th></th>\n",
       "    </tr>\n",
       "  </thead>\n",
       "  <tbody>\n",
       "    <tr>\n",
       "      <th>92</th>\n",
       "      <th>Final Critic</th>\n",
       "      <td>13</td>\n",
       "      <td>$4.61</td>\n",
       "      <td>$59.99</td>\n",
       "    </tr>\n",
       "    <tr>\n",
       "      <th>178</th>\n",
       "      <th>Oathbreaker, Last Hope of the Breaking Storm</th>\n",
       "      <td>12</td>\n",
       "      <td>$4.23</td>\n",
       "      <td>$50.76</td>\n",
       "    </tr>\n",
       "    <tr>\n",
       "      <th>82</th>\n",
       "      <th>Nirvana</th>\n",
       "      <td>9</td>\n",
       "      <td>$4.90</td>\n",
       "      <td>$44.10</td>\n",
       "    </tr>\n",
       "    <tr>\n",
       "      <th>145</th>\n",
       "      <th>Fiery Glass Crusader</th>\n",
       "      <td>9</td>\n",
       "      <td>$4.58</td>\n",
       "      <td>$41.22</td>\n",
       "    </tr>\n",
       "    <tr>\n",
       "      <th>103</th>\n",
       "      <th>Singed Scalpel</th>\n",
       "      <td>8</td>\n",
       "      <td>$4.35</td>\n",
       "      <td>$34.80</td>\n",
       "    </tr>\n",
       "  </tbody>\n",
       "</table>\n",
       "</div>"
      ],
      "text/plain": [
       "                                                     Purchase Count  \\\n",
       "Item ID Item Name                                                     \n",
       "92      Final Critic                                             13   \n",
       "178     Oathbreaker, Last Hope of the Breaking Storm             12   \n",
       "82      Nirvana                                                   9   \n",
       "145     Fiery Glass Crusader                                      9   \n",
       "103     Singed Scalpel                                            8   \n",
       "\n",
       "                                                     Item Price  \\\n",
       "Item ID Item Name                                                 \n",
       "92      Final Critic                                      $4.61   \n",
       "178     Oathbreaker, Last Hope of the Breaking Storm      $4.23   \n",
       "82      Nirvana                                           $4.90   \n",
       "145     Fiery Glass Crusader                              $4.58   \n",
       "103     Singed Scalpel                                    $4.35   \n",
       "\n",
       "                                                     Total Purchase Value  \n",
       "Item ID Item Name                                                          \n",
       "92      Final Critic                                               $59.99  \n",
       "178     Oathbreaker, Last Hope of the Breaking Storm               $50.76  \n",
       "82      Nirvana                                                    $44.10  \n",
       "145     Fiery Glass Crusader                                       $41.22  \n",
       "103     Singed Scalpel                                             $34.80  "
      ]
     },
     "execution_count": 10,
     "metadata": {},
     "output_type": "execute_result"
    }
   ],
   "source": []
  }
 ],
 "metadata": {
  "anaconda-cloud": {},
  "kernel_info": {
   "name": "python3"
  },
  "kernelspec": {
   "display_name": "Python 3",
   "language": "python",
   "name": "python3"
  },
  "language_info": {
   "codemirror_mode": {
    "name": "ipython",
    "version": 3
   },
   "file_extension": ".py",
   "mimetype": "text/x-python",
   "name": "python",
   "nbconvert_exporter": "python",
   "pygments_lexer": "ipython3",
   "version": "3.7.6"
  },
  "latex_envs": {
   "LaTeX_envs_menu_present": true,
   "autoclose": false,
   "autocomplete": true,
   "bibliofile": "biblio.bib",
   "cite_by": "apalike",
   "current_citInitial": 1,
   "eqLabelWithNumbers": true,
   "eqNumInitial": 1,
   "hotkeys": {
    "equation": "Ctrl-E",
    "itemize": "Ctrl-I"
   },
   "labels_anchors": false,
   "latex_user_defs": false,
   "report_style_numbering": false,
   "user_envs_cfg": false
  },
  "nteract": {
   "version": "0.2.0"
  }
 },
 "nbformat": 4,
 "nbformat_minor": 4
}
